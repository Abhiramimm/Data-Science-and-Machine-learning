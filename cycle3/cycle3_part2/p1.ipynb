{
 "cells": [
  {
   "cell_type": "code",
   "execution_count": 1,
   "id": "c11b2153",
   "metadata": {},
   "outputs": [],
   "source": [
    "import numpy as np\n",
    "import matplotlib.pyplot as plt\n",
    "import seaborn as sns\n",
    "import pandas as pd\n",
    "col=['sepal_length','sepal_width','petal_length','petal_width','type']\n",
    "iris=pd.read_csv(\"iris.csv\",names=col)"
   ]
  },
  {
   "cell_type": "code",
   "execution_count": 5,
   "id": "ce0d4979",
   "metadata": {},
   "outputs": [
    {
     "name": "stdout",
     "output_type": "stream",
     "text": [
      "shape: (151, 5)\n",
      "*********\n",
      "First five rows\n",
      "   sepal_length  sepal_width  petal_length  petal_width     type\n",
      "0  sepal.length  sepal.width  petal.length  petal.width  variety\n",
      "1           5.1          3.5           1.4           .2   Setosa\n",
      "2           4.9            3           1.4           .2   Setosa\n",
      "3           4.7          3.2           1.3           .2   Setosa\n",
      "4           4.6          3.1           1.5           .2   Setosa\n",
      "*********\n",
      "Last five rows\n",
      "    sepal_length sepal_width petal_length petal_width       type\n",
      "146          6.7           3          5.2         2.3  Virginica\n",
      "147          6.3         2.5            5         1.9  Virginica\n",
      "148          6.5           3          5.2           2  Virginica\n",
      "149          6.2         3.4          5.4         2.3  Virginica\n",
      "150          5.9           3          5.1         1.8  Virginica\n",
      "Size: 755\n",
      "*********\n",
      "no of samples available for each type\n",
      "Setosa        50\n",
      "Versicolor    50\n",
      "Virginica     50\n",
      "variety        1\n",
      "Name: type, dtype: int64\n",
      "*********\n",
      "       sepal_length sepal_width petal_length petal_width    type\n",
      "count           151         151          151         151     151\n",
      "unique           36          24           44          23       4\n",
      "top               5           3          1.5          .2  Setosa\n",
      "freq             10          26           13          29      50\n"
     ]
    }
   ],
   "source": [
    "print(\"shape:\",iris.shape)\n",
    "print(\"*********\")\n",
    "print(\"First five rows\")\n",
    "print(iris.head())\n",
    "print(\"*********\")\n",
    "print(\"Last five rows\")\n",
    "print(iris.tail())\n",
    "print(\"Size:\",iris.size)\n",
    "print(\"*********\")\n",
    "print(\"no of samples available for each type\") \n",
    "print(iris[\"type\"].value_counts())\n",
    "print(\"*********\")\n",
    "print(iris.describe())"
   ]
  },
  {
   "cell_type": "code",
   "execution_count": null,
   "id": "9d6b094c",
   "metadata": {},
   "outputs": [],
   "source": []
  },
  {
   "cell_type": "code",
   "execution_count": null,
   "id": "848c43b4",
   "metadata": {},
   "outputs": [],
   "source": []
  }
 ],
 "metadata": {
  "kernelspec": {
   "display_name": "Python 3 (ipykernel)",
   "language": "python",
   "name": "python3"
  },
  "language_info": {
   "codemirror_mode": {
    "name": "ipython",
    "version": 3
   },
   "file_extension": ".py",
   "mimetype": "text/x-python",
   "name": "python",
   "nbconvert_exporter": "python",
   "pygments_lexer": "ipython3",
   "version": "3.9.7"
  }
 },
 "nbformat": 4,
 "nbformat_minor": 5
}
